{
 "cells": [
  {
   "cell_type": "markdown",
   "id": "ded282c3",
   "metadata": {},
   "source": [
    "##### top"
   ]
  },
  {
   "cell_type": "markdown",
   "id": "0fdd1544",
   "metadata": {},
   "source": [
    "# This notebook verifies statistical dependence or independence of several measures that are claimed in the paper\n",
    "\n",
    "* [Random data show no reliability](#Random-data-show-no-reliability)"
   ]
  },
  {
   "cell_type": "markdown",
   "id": "163feb22",
   "metadata": {},
   "source": [
    "## Random data show no reliability\n",
    "[top](#top)\n",
    "\n",
    "This shows what is stated in Figure 1 that random data have no reliability and the observed reliability can fluctuate between -0.1 to 0.1."
   ]
  },
  {
   "cell_type": "code",
   "execution_count": 1,
   "id": "9abe629a",
   "metadata": {},
   "outputs": [],
   "source": [
    "import os,sys\n",
    "import scipy\n",
    "import time\n",
    "import numpy as np\n",
    "import pandas as pd\n",
    "import matplotlib.pyplot as plt\n",
    "\n",
    "from lmfit import Model\n",
    "\n",
    "# Importing module for functions\n",
    "functions_modul =  \"./functions\"\n",
    "sys.path.insert(0, functions_modul)\n",
    "\n",
    "\n",
    "### Functions\n",
    "from reliability_functions import create_random_reliability_curve, linear\n",
    "from plot_functions import plot_figure_convergent_tasks_random\n",
    "\n",
    "\n",
    "path_results = \"../Data/results\" \n",
    "path_curve_fit = os.path.join(path_results, \"curve_fits\")\n",
    "path_simulation_general = os.path.join(path_curve_fit, \"compare_fitting_methods\")"
   ]
  },
  {
   "cell_type": "code",
   "execution_count": 4,
   "id": "fe228e6a",
   "metadata": {},
   "outputs": [
    {
     "name": "stdout",
     "output_type": "stream",
     "text": [
      "Process took: 498.83 s which is 8.31 min.\n"
     ]
    }
   ],
   "source": [
    "start = time.time()\n",
    "\n",
    "# how many times to sample\n",
    "n_sims = 100\n",
    "\n",
    "# define the simulation\n",
    "total_n_trials_n = 250\n",
    "# subjects\n",
    "N_n=100\n",
    "\n",
    "array_corr_trials_psychofit_all = np.zeros((n_sims, 25, 1000))\n",
    "\n",
    "for i in range(n_sims):\n",
    "    array_corr_trials_psychofit_all[i,:], n_trials_list_n = create_random_reliability_curve(total_n_trials_n, N_n,\n",
    "                                                                             rng=np.random.default_rng(i),\n",
    "                                                                             rng_split=np.random.default_rng(0),\n",
    "                                                                            print_time=False,verbose=False)\n",
    "\n",
    "print(f\"Process took: {time.time() - start:.2f} s which is {(time.time() - start) / 60:.2f} min.\")\n",
    "# 4.6 s per 1 iter\n",
    "# 46.6 s per 10 (0.8 min)\n",
    "# 445 s per 100 (7.4 min)"
   ]
  },
  {
   "cell_type": "code",
   "execution_count": 5,
   "id": "7a3b8cd3",
   "metadata": {},
   "outputs": [
    {
     "data": {
      "image/png": "[encoded data removed]",
      "text/plain": [
       "<Figure size 432x288 with 1 Axes>"
      ]
     },
     "metadata": {
      "needs_background": "light"
     },
     "output_type": "display_data"
    },
    {
     "name": "stdout",
     "output_type": "stream",
     "text": [
      "\n",
      "Statistical tests:\n",
      "Ttest_1sampResult(statistic=1.1659805836168462, pvalue=0.24642362500678136)\n",
      "(100,)\n"
     ]
    }
   ],
   "source": [
    "fig, ax = plt.subplots(1,1)\n",
    "\n",
    "plot_figure_convergent_tasks_random(n_trials_list_n, array_corr_trials_psychofit_all.mean(axis=-1).mean(0), \n",
    "                                    array_corr_trials_psychofit_all.std(axis=-1).mean(0), ax, False, colour='r')\n",
    "\n",
    "ax.set_title(ax.get_title()+f'n simulations={n_sims}')\n",
    "plt.show()\n",
    "\n",
    "print('\\nStatistical tests:')\n",
    "print(scipy.stats.ttest_1samp(array_corr_trials_psychofit_all.mean(axis=-1)[:,-1], 0, alternative='two-sided'))\n",
    "print(array_corr_trials_psychofit_all.mean(axis=-1)[:,-1].shape)"
   ]
  },
  {
   "cell_type": "markdown",
   "id": "5ced9b1e",
   "metadata": {},
   "source": [
    "## Median percent error for fits is independent of C\n",
    "[top](#top)\n",
    "\n",
    "This shows what is stated in Figure 4 that median percent error for the three fits is independent of C. This is hard to show and we show it in the two following ways:\n",
    "* by looking at the distribution of differences of neighbouring points (i.e., second-first, third-second, ...) and testing whether it is significantly different from zero (if no, then there is no trend);\n",
    "* by fitting a linear function and looking at its slope (should be 0 if there is no trend)."
   ]
  },
  {
   "cell_type": "code",
   "execution_count": 2,
   "id": "fc29b194",
   "metadata": {},
   "outputs": [],
   "source": [
    "df_perc_median_noexplosions = pd.read_csv(os.path.join(path_simulation_general, 'beta_simulate_N_ntrials250', 'df_perc_median_noexplosions_varyN_ntrials_250_unbiasedC_between_1-100.csv'))\n",
    "\n"
   ]
  },
  {
   "cell_type": "code",
   "execution_count": 3,
   "id": "533564ea",
   "metadata": {},
   "outputs": [
    {
     "name": "stdout",
     "output_type": "stream",
     "text": [
      "hyperbolic\n",
      "Ttest_1sampResult(statistic=0.23014306685144725, pvalue=0.8185909176354855)\n",
      "(78,) -> df = 77\n",
      "{'a': 0.001918812002343358, 'b': -0.016816872295820594} \n",
      "\n",
      "linear\n",
      "Ttest_1sampResult(statistic=0.8177722286074622, pvalue=0.4160106269896444)\n",
      "(78,) -> df = 77\n",
      "{'a': 0.009249488234733884, 'b': 0.5813890229487646} \n",
      "\n",
      "theory_unbiased\n",
      "Ttest_1sampResult(statistic=0.5876920500570691, pvalue=0.5584586093377233)\n",
      "(78,) -> df = 77\n",
      "{'a': 0.01066500810328512, 'b': 1.5303865668830492} \n",
      "\n"
     ]
    },
    {
     "data": {
      "image/png": "[encoded data removed]",
      "text/plain": [
       "<Figure size 432x288 with 1 Axes>"
      ]
     },
     "metadata": {
      "needs_background": "light"
     },
     "output_type": "display_data"
    }
   ],
   "source": [
    "my_N = 100\n",
    "\n",
    "for i,fit_hue in enumerate([\"hyperbolic\", \"linear\", \"theory_unbiased\"]):\n",
    "    data=df_perc_median_noexplosions.loc[(df_perc_median_noexplosions[\"fit\"]==fit_hue)&(df_perc_median_noexplosions[\"N\"]==my_N)&(df_perc_median_noexplosions[\"true_C\"]>=2)]\n",
    "    diff = data.loc[:, \"percent_error\"][1:].values-data.loc[:, \"percent_error\"][:-1].values\n",
    "    plt.hist(diff, bins=20, alpha=0.4, label=fit_hue)\n",
    "    plt.legend()\n",
    "    print(fit_hue)\n",
    "    print(scipy.stats.ttest_1samp(diff, 0, alternative='two-sided'))\n",
    "    print(f'{diff.shape} -> df = {diff.shape[0] - 1}')\n",
    "\n",
    "    gmodel = Model(linear, nan_policy='omit')\n",
    "    params = gmodel.make_params(a=0, b=0)\n",
    "    result = gmodel.fit(data.loc[:, \"percent_error\"], params, x=data.loc[:, \"true_C\"])\n",
    "    print(result.best_values, '\\n')"
   ]
  },
  {
   "cell_type": "code",
   "execution_count": null,
   "id": "4aef87f5",
   "metadata": {},
   "outputs": [],
   "source": []
  },
  {
   "cell_type": "code",
   "execution_count": 4,
   "id": "7f61403f",
   "metadata": {},
   "outputs": [
    {
     "name": "stdout",
     "output_type": "stream",
     "text": [
      "Author: Jan Kadlec\n",
      "\n",
      "Last updated: Mon Jun 12 2023\n",
      "\n",
      "Python implementation: CPython\n",
      "Python version       : 3.8.11\n",
      "IPython version      : 7.26.0\n",
      "\n",
      "Compiler    : Clang 10.0.0 \n",
      "OS          : Darwin\n",
      "Release     : 22.5.0\n",
      "Machine     : x86_64\n",
      "Processor   : i386\n",
      "CPU cores   : 16\n",
      "Architecture: 64bit\n",
      "\n",
      "sys       : 3.8.11 (default, Aug  6 2021, 08:56:27) \n",
      "[Clang 10.0.0 ]\n",
      "numpy     : 1.19.1\n",
      "matplotlib: 3.6.2\n",
      "pandas    : 1.2.4\n",
      "scipy     : 1.7.3\n",
      "\n"
     ]
    }
   ],
   "source": [
    "%load_ext watermark\n",
    "\n",
    "%watermark -a 'Jan Kadlec' -nmvu -iv"
   ]
  },
  {
   "cell_type": "markdown",
   "id": "9bf90b60",
   "metadata": {},
   "source": [
    "[top](#top)"
   ]
  }
 ],
 "metadata": {
  "kernelspec": {
   "display_name": "reliability_github",
   "language": "python",
   "name": "reliability_github"
  },
  "language_info": {
   "codemirror_mode": {
    "name": "ipython",
    "version": 3
   },
   "file_extension": ".py",
   "mimetype": "text/x-python",
   "name": "python",
   "nbconvert_exporter": "python",
   "pygments_lexer": "ipython3",
   "version": "3.8.11"
  }
 },
 "nbformat": 4,
 "nbformat_minor": 5
}
